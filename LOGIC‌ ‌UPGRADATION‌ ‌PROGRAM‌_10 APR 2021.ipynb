{
 "cells": [
  {
   "cell_type": "code",
   "execution_count": 5,
   "metadata": {
    "scrolled": true
   },
   "outputs": [
    {
     "name": "stdout",
     "output_type": "stream",
     "text": [
      "Enter the Four digit number1234\n",
      "Count of Zero:  0\n",
      "Count of Even:  2\n",
      "Count of Odd:  2\n"
     ]
    }
   ],
   "source": [
    "'''\n",
    "Ques:1\n",
    "Write A program to accept  Four digit number from user and count zero , odd and even digits from the entered number.\n",
    "'''\n",
    "\n",
    "num=input('Enter the Four digit number: ')\n",
    "zero=0; even=0; odd=0;\n",
    "for i in num:\n",
    "    j=int(i)\n",
    "    if j==0:\n",
    "        zero+=1\n",
    "    elif j%2==0:\n",
    "        even+=1\n",
    "    else:\n",
    "        odd+=1\n",
    "print('Count of Zero: ', zero)\n",
    "print('Count of Even: ', even)\n",
    "print('Count of Odd: ', odd)\n"
   ]
  },
  {
   "cell_type": "code",
   "execution_count": 14,
   "metadata": {},
   "outputs": [
    {
     "name": "stdout",
     "output_type": "stream",
     "text": [
      "How many numbers you want to enter: 5\n",
      "Enter the number 1: 1\n",
      "Enter the number 2: 5\n",
      "Enter the number 3: 9\n",
      "Enter the number 4: 3\n",
      "Enter the number 5: 7\n",
      "The entered array is:  [1, 5, 9, 3, 7]\n",
      "Maximum number in the array is:  9\n",
      "Minimum number in the array is:  1\n"
     ]
    }
   ],
   "source": [
    "'''\n",
    "Ques:2\n",
    "Write a   program to accept ‘n’ numbers from user , store these numbers into an array. Find out maximum and minimum number from an Array.\n",
    "'''\n",
    "n=int(input('How many numbers you want to enter: '))\n",
    "array_list=[]\n",
    "for i in range(1, n+1):\n",
    "    array_list.append(int(input('Enter the number {}: '.format(i))))\n",
    "\n",
    "print('The entered array is: ', array_list)\n",
    "print('Maximum number in the array is: ', max(array_list))\n",
    "print('Minimum number in the array is: ', min(array_list))\n"
   ]
  },
  {
   "cell_type": "code",
   "execution_count": null,
   "metadata": {},
   "outputs": [],
   "source": [
    "'''\n",
    "Ques:3\n",
    "Write a menu driven program  that shows the working of a library. The menu option should be \n",
    "--ADD BOOK INFORMATION\n",
    "--DISPLAY BOOK INFORMATION\n",
    "--LIST ALL BOOKS OF GIVEN AUTHOR \n",
    "--LIST THE COUNT OF BOOKS IN THE LIBRARY\n",
    "--EXIT\n",
    "'''\n"
   ]
  },
  {
   "cell_type": "code",
   "execution_count": 15,
   "metadata": {},
   "outputs": [
    {
     "data": {
      "text/plain": [
       "'C:\\\\Users\\\\innov'"
      ]
     },
     "execution_count": 15,
     "metadata": {},
     "output_type": "execute_result"
    }
   ],
   "source": [
    "pwd"
   ]
  },
  {
   "cell_type": "code",
   "execution_count": null,
   "metadata": {},
   "outputs": [],
   "source": []
  }
 ],
 "metadata": {
  "kernelspec": {
   "display_name": "Python 3",
   "language": "python",
   "name": "python3"
  },
  "language_info": {
   "codemirror_mode": {
    "name": "ipython",
    "version": 3
   },
   "file_extension": ".py",
   "mimetype": "text/x-python",
   "name": "python",
   "nbconvert_exporter": "python",
   "pygments_lexer": "ipython3",
   "version": "3.6.5"
  }
 },
 "nbformat": 4,
 "nbformat_minor": 2
}
